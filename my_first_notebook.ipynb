{
 "cells": [
  {
   "cell_type": "markdown",
   "metadata": {},
   "source": [
    "# Helpful links for Markdown\n",
    "[CheatSheet](https://guides.github.com/pdfs/markdown-cheatsheet-online.pdf),\n",
    "[Creator's Website](https://daringfireball.net/projects/markdown/)"
   ]
  },
  {
   "cell_type": "code",
   "execution_count": 1,
   "metadata": {},
   "outputs": [
    {
     "name": "stdout",
     "output_type": "stream",
     "text": [
      "                  1                \n",
      "                2 1 2              \n",
      "              3 2 1 2 3            \n",
      "            4 3 2 1 2 3 4          \n",
      "          5 4 3 2 1 2 3 4 5        \n",
      "        6 5 4 3 2 1 2 3 4 5 6      \n",
      "      7 6 5 4 3 2 1 2 3 4 5 6 7    \n",
      "    8 7 6 5 4 3 2 1 2 3 4 5 6 7 8  \n",
      "  9 8 7 6 5 4 3 2 1 2 3 4 5 6 7 8 9\n"
     ]
    }
   ],
   "source": [
    "for row_num in range(1, 10):\n",
    "    print(' '.join(' ' if index_num > row_num else str(index_num) for index_num in range(10, 1, -1)), ' '.join(' ' if index_num > row_num else str(index_num) for index_num in range(1, 10)))"
   ]
  },
  {
   "cell_type": "code",
   "execution_count": null,
   "metadata": {},
   "outputs": [],
   "source": []
  }
 ],
 "metadata": {
  "kernelspec": {
   "display_name": "Python 3",
   "language": "python",
   "name": "python3"
  },
  "language_info": {
   "codemirror_mode": {
    "name": "ipython",
    "version": 3
   },
   "file_extension": ".py",
   "mimetype": "text/x-python",
   "name": "python",
   "nbconvert_exporter": "python",
   "pygments_lexer": "ipython3",
   "version": "3.7.4"
  }
 },
 "nbformat": 4,
 "nbformat_minor": 2
}
