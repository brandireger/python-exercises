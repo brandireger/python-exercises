{
 "cells": [
  {
   "cell_type": "markdown",
   "metadata": {},
   "source": [
    "How many students are there?"
   ]
  },
  {
   "cell_type": "code",
   "execution_count": 94,
   "metadata": {},
   "outputs": [
    {
     "data": {
      "text/plain": [
       "14"
      ]
     },
     "execution_count": 94,
     "metadata": {},
     "output_type": "execute_result"
    }
   ],
   "source": [
    "len(students)"
   ]
  },
  {
   "cell_type": "markdown",
   "metadata": {},
   "source": [
    "How many students prefer light coffee?"
   ]
  },
  {
   "cell_type": "code",
   "execution_count": 4,
   "metadata": {},
   "outputs": [
    {
     "data": {
      "text/plain": [
       "3"
      ]
     },
     "execution_count": 4,
     "metadata": {},
     "output_type": "execute_result"
    }
   ],
   "source": [
    "len([student for student in students if student['coffee_preference'] == 'light'])"
   ]
  },
  {
   "cell_type": "markdown",
   "metadata": {},
   "source": [
    "For each type of coffee roast?"
   ]
  },
  {
   "cell_type": "code",
   "execution_count": 95,
   "metadata": {},
   "outputs": [
    {
     "data": {
      "text/plain": [
       "6"
      ]
     },
     "execution_count": 95,
     "metadata": {},
     "output_type": "execute_result"
    }
   ],
   "source": [
    "len([student for student in students if student['coffee_preference'] == 'medium'])"
   ]
  },
  {
   "cell_type": "code",
   "execution_count": 7,
   "metadata": {},
   "outputs": [
    {
     "data": {
      "text/plain": [
       "5"
      ]
     },
     "execution_count": 7,
     "metadata": {},
     "output_type": "execute_result"
    }
   ],
   "source": [
    "len([student for student in students if student['coffee_preference'] == 'dark'])"
   ]
  },
  {
   "cell_type": "markdown",
   "metadata": {},
   "source": [
    "How many of each species of pet are there?"
   ]
  },
  {
   "cell_type": "code",
   "execution_count": 27,
   "metadata": {},
   "outputs": [
    {
     "data": {
      "text/plain": [
       "11"
      ]
     },
     "execution_count": 27,
     "metadata": {},
     "output_type": "execute_result"
    }
   ],
   "source": [
    "# This approach didn't answer the question, but it gave me an idea of how it works\n",
    "sum([len([pets['species'] for pets in student['pets'] if pets['species'] == 'cat']) for student in students])"
   ]
  },
  {
   "cell_type": "code",
   "execution_count": 28,
   "metadata": {},
   "outputs": [
    {
     "data": {
      "text/plain": [
       "4"
      ]
     },
     "execution_count": 28,
     "metadata": {},
     "output_type": "execute_result"
    }
   ],
   "source": [
    "sum([len([pets['species'] for pets in student['pets'] if pets['species'] == 'horse']) for student in students])"
   ]
  },
  {
   "cell_type": "code",
   "execution_count": 29,
   "metadata": {},
   "outputs": [
    {
     "data": {
      "text/plain": [
       "3"
      ]
     },
     "execution_count": 29,
     "metadata": {},
     "output_type": "execute_result"
    }
   ],
   "source": [
    "sum([len([pets['species'] for pets in student['pets'] if pets['species'] == 'dog']) for student in students])"
   ]
  },
  {
   "cell_type": "markdown",
   "metadata": {},
   "source": [
    "How many types of pet are there?"
   ]
  },
  {
   "cell_type": "code",
   "execution_count": 38,
   "metadata": {},
   "outputs": [
    {
     "data": {
      "text/plain": [
       "{'cat', 'dog', 'horse'}"
      ]
     },
     "execution_count": 38,
     "metadata": {},
     "output_type": "execute_result"
    }
   ],
   "source": [
    "set(sum([[pet['species'] for pet in student['pets']] for student in students], []))"
   ]
  },
  {
   "cell_type": "markdown",
   "metadata": {},
   "source": [
    "How many grades does each student have? Do they all have the same number of grades?"
   ]
  },
  {
   "cell_type": "code",
   "execution_count": 9,
   "metadata": {},
   "outputs": [
    {
     "data": {
      "text/plain": [
       "[4, 4, 4, 4, 4, 4, 4, 4, 4, 4, 4, 4, 4, 4]"
      ]
     },
     "execution_count": 9,
     "metadata": {},
     "output_type": "execute_result"
    }
   ],
   "source": [
    "[len(student['grades']) for student in students]"
   ]
  },
  {
   "cell_type": "markdown",
   "metadata": {},
   "source": [
    "What is each student's grade average?"
   ]
  },
  {
   "cell_type": "code",
   "execution_count": 39,
   "metadata": {},
   "outputs": [
    {
     "data": {
      "text/plain": [
       "[[70, 91, 82, 71],\n",
       " [75, 73, 86, 100],\n",
       " [70, 89, 69, 65],\n",
       " [73, 66, 83, 92],\n",
       " [78, 98, 85, 65],\n",
       " [76, 70, 96, 81],\n",
       " [69, 94, 89, 86],\n",
       " [87, 79, 90, 99],\n",
       " [74, 99, 93, 89],\n",
       " [82, 92, 91, 65],\n",
       " [70, 92, 65, 99],\n",
       " [100, 86, 91, 87],\n",
       " [80, 70, 68, 98],\n",
       " [73, 99, 86, 98]]"
      ]
     },
     "execution_count": 39,
     "metadata": {},
     "output_type": "execute_result"
    }
   ],
   "source": [
    "# first i wanted to see the grades for each student\n",
    "[student['grades'] for student in students]"
   ]
  },
  {
   "cell_type": "code",
   "execution_count": 40,
   "metadata": {},
   "outputs": [
    {
     "data": {
      "text/plain": [
       "[314, 334, 293, 314, 326, 323, 338, 355, 355, 330, 326, 364, 316, 356]"
      ]
     },
     "execution_count": 40,
     "metadata": {},
     "output_type": "execute_result"
    }
   ],
   "source": [
    "# then I added them together \n",
    "[sum(student['grades']) for student in students]"
   ]
  },
  {
   "cell_type": "code",
   "execution_count": 42,
   "metadata": {},
   "outputs": [
    {
     "data": {
      "text/plain": [
       "[78.5,\n",
       " 83.5,\n",
       " 73.25,\n",
       " 78.5,\n",
       " 81.5,\n",
       " 80.75,\n",
       " 84.5,\n",
       " 88.75,\n",
       " 88.75,\n",
       " 82.5,\n",
       " 81.5,\n",
       " 91.0,\n",
       " 79.0,\n",
       " 89.0]"
      ]
     },
     "execution_count": 42,
     "metadata": {},
     "output_type": "execute_result"
    }
   ],
   "source": [
    "# then I divided the sum of grades by the number of grades\n",
    "\n",
    "[(sum(student['grades'])) / (len(student['grades'])) for student in students]"
   ]
  },
  {
   "cell_type": "markdown",
   "metadata": {},
   "source": [
    "How many pets does each student have?"
   ]
  },
  {
   "cell_type": "code",
   "execution_count": 45,
   "metadata": {},
   "outputs": [
    {
     "data": {
      "text/plain": [
       "[1, 0, 1, 2, 3, 0, 1, 2, 2, 1, 2, 1, 1, 1]"
      ]
     },
     "execution_count": 45,
     "metadata": {},
     "output_type": "execute_result"
    }
   ],
   "source": [
    "[len([pet for pet in student['pets']]) for student in students]"
   ]
  },
  {
   "cell_type": "markdown",
   "metadata": {},
   "source": [
    "How many students are in web development? data science?"
   ]
  },
  {
   "cell_type": "code",
   "execution_count": 52,
   "metadata": {},
   "outputs": [
    {
     "data": {
      "text/plain": [
       "7"
      ]
     },
     "execution_count": 52,
     "metadata": {},
     "output_type": "execute_result"
    }
   ],
   "source": [
    "num_students_web_dev = len([student for student in students if student['course'] == 'web development'])\n",
    "\n",
    "num_students_web_dev"
   ]
  },
  {
   "cell_type": "markdown",
   "metadata": {},
   "source": [
    "What is the average number of pets for students in web development?"
   ]
  },
  {
   "cell_type": "code",
   "execution_count": 58,
   "metadata": {},
   "outputs": [
    {
     "data": {
      "text/plain": [
       "[1, 1, 3, 1, 1, 1, 1]"
      ]
     },
     "execution_count": 58,
     "metadata": {},
     "output_type": "execute_result"
    }
   ],
   "source": [
    "# first i found how many pets each student has\n",
    "[len(student['pets']) for student in students \n",
    " if student['course'] == 'web development']"
   ]
  },
  {
   "cell_type": "code",
   "execution_count": 57,
   "metadata": {},
   "outputs": [
    {
     "data": {
      "text/plain": [
       "[0.14285714285714285,\n",
       " 0.14285714285714285,\n",
       " 0.42857142857142855,\n",
       " 0.14285714285714285,\n",
       " 0.14285714285714285,\n",
       " 0.14285714285714285,\n",
       " 0.14285714285714285]"
      ]
     },
     "execution_count": 57,
     "metadata": {},
     "output_type": "execute_result"
    }
   ],
   "source": [
    "# then I divided that by the number of students in web dev\n",
    "\n",
    "[len(student['pets']) / (num_students_web_dev) for student in students if student['course'] == 'web development']"
   ]
  },
  {
   "cell_type": "markdown",
   "metadata": {},
   "source": [
    "What is the average pet age for students in data science?"
   ]
  },
  {
   "cell_type": "code",
   "execution_count": 61,
   "metadata": {},
   "outputs": [
    {
     "data": {
      "text/plain": [
       "[[], [4, 4], [], [10, 8], [0, 0], [8, 5], [10]]"
      ]
     },
     "execution_count": 61,
     "metadata": {},
     "output_type": "execute_result"
    }
   ],
   "source": [
    "# first i want the age of each pet\n",
    "[[pet['age'] for pet in student['pets']] for student in students if student['course'] == 'data science']"
   ]
  },
  {
   "cell_type": "code",
   "execution_count": 72,
   "metadata": {},
   "outputs": [
    {
     "data": {
      "text/plain": [
       "[4, 4, 10, 8, 0, 0, 8, 5, 10]"
      ]
     },
     "execution_count": 72,
     "metadata": {},
     "output_type": "execute_result"
    }
   ],
   "source": [
    "# now add them all together: first flatten the list\n",
    "sum([[pet['age'] for pet in student['pets']] for student in students if student['course'] == 'data science'], [])"
   ]
  },
  {
   "cell_type": "code",
   "execution_count": 74,
   "metadata": {},
   "outputs": [
    {
     "data": {
      "text/plain": [
       "49"
      ]
     },
     "execution_count": 74,
     "metadata": {},
     "output_type": "execute_result"
    }
   ],
   "source": [
    "# now sum the list\n",
    "summed_DS_pet_ages = \\\n",
    "sum(sum([[pet['age'] for pet in student['pets']] for student in students if student['course'] == 'data science'], []))\n",
    "summed_DS_pet_ages"
   ]
  },
  {
   "cell_type": "code",
   "execution_count": 75,
   "metadata": {},
   "outputs": [
    {
     "data": {
      "text/plain": [
       "7"
      ]
     },
     "execution_count": 75,
     "metadata": {},
     "output_type": "execute_result"
    }
   ],
   "source": [
    "# now find how many pets in total\n",
    "num_of_pets_in_datascience = \\\n",
    "len([[pet['age'] for pet in student['pets']] for student in students if student['course'] == 'data science'])\n",
    "\n",
    "num_of_pets_in_datascience"
   ]
  },
  {
   "cell_type": "code",
   "execution_count": 76,
   "metadata": {},
   "outputs": [
    {
     "data": {
      "text/plain": [
       "7.0"
      ]
     },
     "execution_count": 76,
     "metadata": {},
     "output_type": "execute_result"
    }
   ],
   "source": [
    "# Now divide the summed ages by the number of pets\n",
    "# this is the final answer\n",
    "summed_DS_pet_ages / num_of_pets_in_datascience"
   ]
  },
  {
   "cell_type": "markdown",
   "metadata": {},
   "source": [
    "What is most frequent coffee preference for data science students?"
   ]
  },
  {
   "cell_type": "code",
   "execution_count": 84,
   "metadata": {},
   "outputs": [
    {
     "data": {
      "text/plain": [
       "['medium', 'dark', 'dark', 'medium', 'medium', 'dark', 'medium']"
      ]
     },
     "execution_count": 84,
     "metadata": {},
     "output_type": "execute_result"
    }
   ],
   "source": [
    "# first i want to see all coffee preferences for DS students\n",
    "\n",
    "ds_coffee = [student['coffee_preference'] for student in students if student['course'] == 'data science']\n",
    "ds_coffee"
   ]
  },
  {
   "cell_type": "code",
   "execution_count": 93,
   "metadata": {},
   "outputs": [
    {
     "data": {
      "text/plain": [
       "(4, 'medium')"
      ]
     },
     "execution_count": 93,
     "metadata": {},
     "output_type": "execute_result"
    }
   ],
   "source": [
    "max(set(list(zip([ds_coffee.count(w) for w in ds_coffee], ds_coffee))))"
   ]
  },
  {
   "cell_type": "markdown",
   "metadata": {},
   "source": [
    "What is the least frequent coffee preference for web development students?\n"
   ]
  },
  {
   "cell_type": "code",
   "execution_count": 96,
   "metadata": {},
   "outputs": [
    {
     "data": {
      "text/plain": [
       "(3, 'dark')"
      ]
     },
     "execution_count": 96,
     "metadata": {},
     "output_type": "execute_result"
    }
   ],
   "source": [
    "min(set(list(zip([ds_coffee.count(w) for w in ds_coffee], ds_coffee))))"
   ]
  },
  {
   "cell_type": "markdown",
   "metadata": {},
   "source": [
    "What is the average grade for students with at least 2 pets?"
   ]
  },
  {
   "cell_type": "code",
   "execution_count": 102,
   "metadata": {},
   "outputs": [
    {
     "data": {
      "text/plain": [
       "[81.5]"
      ]
     },
     "execution_count": 102,
     "metadata": {},
     "output_type": "execute_result"
    }
   ],
   "source": [
    "# I copied the average grade from the earlier question\n",
    "# Then I restricted that to those students with more than 2 pets\n",
    "[(sum(student['grades'])) / (len(student['grades'])) \n",
    " for student in students if len(student['pets']) > 2]"
   ]
  },
  {
   "cell_type": "markdown",
   "metadata": {},
   "source": [
    "How many students have 3 pets?"
   ]
  },
  {
   "cell_type": "code",
   "execution_count": 106,
   "metadata": {},
   "outputs": [
    {
     "data": {
      "text/plain": [
       "1"
      ]
     },
     "execution_count": 106,
     "metadata": {},
     "output_type": "execute_result"
    }
   ],
   "source": [
    "len([student for student in students if len(student['pets']) == 3])"
   ]
  },
  {
   "cell_type": "markdown",
   "metadata": {},
   "source": [
    "What is the average grade for students with 0 pets?"
   ]
  },
  {
   "cell_type": "code",
   "execution_count": 110,
   "metadata": {},
   "outputs": [
    {
     "data": {
      "text/plain": [
       "[83.5, 80.75]"
      ]
     },
     "execution_count": 110,
     "metadata": {},
     "output_type": "execute_result"
    }
   ],
   "source": [
    "no_pets_list = [(sum(student['grades'])) / (len(student['grades'])) \n",
    " for student in students if len(student['pets']) == 0]\n",
    "\n",
    "no_pets_list"
   ]
  },
  {
   "cell_type": "code",
   "execution_count": 112,
   "metadata": {},
   "outputs": [
    {
     "data": {
      "text/plain": [
       "82.125"
      ]
     },
     "execution_count": 112,
     "metadata": {},
     "output_type": "execute_result"
    }
   ],
   "source": [
    "sum(no_pets_list) / len(no_pets_list)"
   ]
  },
  {
   "cell_type": "markdown",
   "metadata": {},
   "source": [
    "What is the average grade for web development students? data science students?"
   ]
  },
  {
   "cell_type": "code",
   "execution_count": 115,
   "metadata": {},
   "outputs": [
    {
     "data": {
      "text/plain": [
       "[78.5, 73.25, 81.5, 84.5, 82.5, 79.0, 89.0]"
      ]
     },
     "execution_count": 115,
     "metadata": {},
     "output_type": "execute_result"
    }
   ],
   "source": [
    "web_dev_grades = [(sum(student['grades'])) / (len(student['grades'])) \n",
    " for student in students if student['course'] == 'web development']\n",
    "\n",
    "web_dev_grades"
   ]
  },
  {
   "cell_type": "code",
   "execution_count": 116,
   "metadata": {},
   "outputs": [
    {
     "data": {
      "text/plain": [
       "81.17857142857143"
      ]
     },
     "execution_count": 116,
     "metadata": {},
     "output_type": "execute_result"
    }
   ],
   "source": [
    "sum(web_dev_grades) / len(web_dev_grades)"
   ]
  },
  {
   "cell_type": "code",
   "execution_count": 117,
   "metadata": {},
   "outputs": [
    {
     "data": {
      "text/plain": [
       "[83.5, 78.5, 80.75, 88.75, 88.75, 81.5, 91.0]"
      ]
     },
     "execution_count": 117,
     "metadata": {},
     "output_type": "execute_result"
    }
   ],
   "source": [
    "data_science_grades = [(sum(student['grades'])) / (len(student['grades'])) \n",
    " for student in students if student['course'] == 'data science']\n",
    "\n",
    "data_science_grades"
   ]
  },
  {
   "cell_type": "code",
   "execution_count": 118,
   "metadata": {},
   "outputs": [
    {
     "data": {
      "text/plain": [
       "84.67857142857143"
      ]
     },
     "execution_count": 118,
     "metadata": {},
     "output_type": "execute_result"
    }
   ],
   "source": [
    "sum(data_science_grades) / len(data_science_grades)"
   ]
  },
  {
   "cell_type": "markdown",
   "metadata": {},
   "source": [
    "What is the average grade range (i.e. highest grade - lowest grade) for dark coffee drinkers?"
   ]
  },
  {
   "cell_type": "code",
   "execution_count": 122,
   "metadata": {},
   "outputs": [
    {
     "data": {
      "text/plain": [
       "[[73, 66, 83, 92],\n",
       " [78, 98, 85, 65],\n",
       " [76, 70, 96, 81],\n",
       " [69, 94, 89, 86],\n",
       " [70, 92, 65, 99]]"
      ]
     },
     "execution_count": 122,
     "metadata": {},
     "output_type": "execute_result"
    }
   ],
   "source": [
    "[student['grades'] for student in students \n",
    " if student['coffee_preference'] == 'dark']"
   ]
  },
  {
   "cell_type": "code",
   "execution_count": 127,
   "metadata": {},
   "outputs": [
    {
     "data": {
      "text/plain": [
       "[26, 33, 26, 25, 34]"
      ]
     },
     "execution_count": 127,
     "metadata": {},
     "output_type": "execute_result"
    }
   ],
   "source": [
    "dark_coffee_grade_range = [max(student['grades']) - min(student['grades']) for student in students \n",
    " if student['coffee_preference'] == 'dark']\n",
    "\n",
    "dark_coffee_grade_range"
   ]
  },
  {
   "cell_type": "code",
   "execution_count": 128,
   "metadata": {},
   "outputs": [
    {
     "data": {
      "text/plain": [
       "28.8"
      ]
     },
     "execution_count": 128,
     "metadata": {},
     "output_type": "execute_result"
    }
   ],
   "source": [
    "sum(dark_coffee_grade_range) / len(dark_coffee_grade_range)"
   ]
  },
  {
   "cell_type": "markdown",
   "metadata": {},
   "source": [
    "What is the average number of pets for medium coffee drinkers?"
   ]
  },
  {
   "cell_type": "code",
   "execution_count": 130,
   "metadata": {},
   "outputs": [
    {
     "data": {
      "text/plain": [
       "[0, 2, 2, 1, 1, 1]"
      ]
     },
     "execution_count": 130,
     "metadata": {},
     "output_type": "execute_result"
    }
   ],
   "source": [
    "medium_coffee_avg_pets = [len(student['pets']) for student in students \n",
    "                          if student['coffee_preference'] == 'medium']\n",
    "\n",
    "medium_coffee_avg_pets"
   ]
  },
  {
   "cell_type": "code",
   "execution_count": 131,
   "metadata": {},
   "outputs": [
    {
     "data": {
      "text/plain": [
       "1.1666666666666667"
      ]
     },
     "execution_count": 131,
     "metadata": {},
     "output_type": "execute_result"
    }
   ],
   "source": [
    "sum(medium_coffee_avg_pets) / len(medium_coffee_avg_pets)"
   ]
  },
  {
   "cell_type": "markdown",
   "metadata": {},
   "source": [
    "What is the most common type of pet for web development students?"
   ]
  },
  {
   "cell_type": "code",
   "execution_count": 153,
   "metadata": {},
   "outputs": [],
   "source": [
    "web_dev_pet_species = [[pet['species'] for pet in student['pets']] \n",
    "                       for student in students \n",
    "                       if student['course'] == 'web development']\n",
    "\n",
    "# Flatten the list\n",
    "web_dev_pet_species = sum(web_dev_pet_species, [])"
   ]
  },
  {
   "cell_type": "code",
   "execution_count": 155,
   "metadata": {},
   "outputs": [
    {
     "data": {
      "text/plain": [
       "(4, 'horse')"
      ]
     },
     "execution_count": 155,
     "metadata": {},
     "output_type": "execute_result"
    }
   ],
   "source": [
    "max(list(zip([web_dev_pet_species.count(x) for x in web_dev_pet_species], \n",
    "    web_dev_pet_species)))"
   ]
  },
  {
   "cell_type": "markdown",
   "metadata": {},
   "source": [
    "What is the average name length?"
   ]
  },
  {
   "cell_type": "code",
   "execution_count": 159,
   "metadata": {},
   "outputs": [
    {
     "data": {
      "text/plain": [
       "13.642857142857142"
      ]
     },
     "execution_count": 159,
     "metadata": {},
     "output_type": "execute_result"
    }
   ],
   "source": [
    "sum([len(student['student']) for student in students]) / len([len(student['student']) for student in students])"
   ]
  },
  {
   "cell_type": "markdown",
   "metadata": {},
   "source": [
    "What is the highest pet age for light coffee drinkers?"
   ]
  },
  {
   "cell_type": "code",
   "execution_count": null,
   "metadata": {},
   "outputs": [],
   "source": []
  },
  {
   "cell_type": "code",
   "execution_count": null,
   "metadata": {},
   "outputs": [],
   "source": []
  },
  {
   "cell_type": "code",
   "execution_count": null,
   "metadata": {},
   "outputs": [],
   "source": []
  },
  {
   "cell_type": "code",
   "execution_count": 2,
   "metadata": {},
   "outputs": [],
   "source": [
    "students = [\n",
    "    {\n",
    "        \"id\": \"100001\",\n",
    "        \"student\": \"Ada Lovelace\",\n",
    "        \"coffee_preference\": \"light\",\n",
    "        \"course\": \"web development\",\n",
    "        \"grades\": [70, 91, 82, 71],\n",
    "        \"pets\": [{\"species\": \"horse\", \"age\": 8}],\n",
    "    },\n",
    "    {\n",
    "        \"id\": \"100002\",\n",
    "        \"student\": \"Thomas Bayes\",\n",
    "        \"coffee_preference\": \"medium\",\n",
    "        \"course\": \"data science\",\n",
    "        \"grades\": [75, 73, 86, 100],\n",
    "        \"pets\": [],\n",
    "    },\n",
    "    {\n",
    "        \"id\": \"100003\",\n",
    "        \"student\": \"Marie Curie\",\n",
    "        \"coffee_preference\": \"light\",\n",
    "        \"course\": \"web development\",\n",
    "        \"grades\": [70, 89, 69, 65],\n",
    "        \"pets\": [{\"species\": \"cat\", \"age\": 0}],\n",
    "    },\n",
    "    {\n",
    "        \"id\": \"100004\",\n",
    "        \"student\": \"Grace Hopper\",\n",
    "        \"coffee_preference\": \"dark\",\n",
    "        \"course\": \"data science\",\n",
    "        \"grades\": [73, 66, 83, 92],\n",
    "        \"pets\": [{\"species\": \"dog\", \"age\": 4}, {\"species\": \"cat\", \"age\": 4}],\n",
    "    },\n",
    "    {\n",
    "        \"id\": \"100005\",\n",
    "        \"student\": \"Alan Turing\",\n",
    "        \"coffee_preference\": \"dark\",\n",
    "        \"course\": \"web development\",\n",
    "        \"grades\": [78, 98, 85, 65],\n",
    "        \"pets\": [\n",
    "            {\"species\": \"horse\", \"age\": 6},\n",
    "            {\"species\": \"horse\", \"age\": 7},\n",
    "            {\"species\": \"dog\", \"age\": 5},\n",
    "        ],\n",
    "    },\n",
    "    {\n",
    "        \"id\": \"100006\",\n",
    "        \"student\": \"Rosalind Franklin\",\n",
    "        \"coffee_preference\": \"dark\",\n",
    "        \"course\": \"data science\",\n",
    "        \"grades\": [76, 70, 96, 81],\n",
    "        \"pets\": [],\n",
    "    },\n",
    "    {\n",
    "        \"id\": \"100007\",\n",
    "        \"student\": \"Elizabeth Blackwell\",\n",
    "        \"coffee_preference\": \"dark\",\n",
    "        \"course\": \"web development\",\n",
    "        \"grades\": [69, 94, 89, 86],\n",
    "        \"pets\": [{\"species\": \"cat\", \"age\": 10}],\n",
    "    },\n",
    "    {\n",
    "        \"id\": \"100008\",\n",
    "        \"student\": \"Rene Descartes\",\n",
    "        \"coffee_preference\": \"medium\",\n",
    "        \"course\": \"data science\",\n",
    "        \"grades\": [87, 79, 90, 99],\n",
    "        \"pets\": [{\"species\": \"cat\", \"age\": 10}, {\"species\": \"cat\", \"age\": 8}],\n",
    "    },\n",
    "    {\n",
    "        \"id\": \"100009\",\n",
    "        \"student\": \"Ahmed Zewail\",\n",
    "        \"coffee_preference\": \"medium\",\n",
    "        \"course\": \"data science\",\n",
    "        \"grades\": [74, 99, 93, 89],\n",
    "        \"pets\": [{\"species\": \"cat\", \"age\": 0}, {\"species\": \"cat\", \"age\": 0}],\n",
    "    },\n",
    "    {\n",
    "        \"id\": \"100010\",\n",
    "        \"student\": \"Chien-Shiung Wu\",\n",
    "        \"coffee_preference\": \"medium\",\n",
    "        \"course\": \"web development\",\n",
    "        \"grades\": [82, 92, 91, 65],\n",
    "        \"pets\": [{\"species\": \"cat\", \"age\": 8}],\n",
    "    },\n",
    "    {\n",
    "        \"id\": \"100011\",\n",
    "        \"student\": \"William Sanford Nye\",\n",
    "        \"coffee_preference\": \"dark\",\n",
    "        \"course\": \"data science\",\n",
    "        \"grades\": [70, 92, 65, 99],\n",
    "        \"pets\": [{\"species\": \"cat\", \"age\": 8}, {\"species\": \"cat\", \"age\": 5}],\n",
    "    },\n",
    "    {\n",
    "        \"id\": \"100012\",\n",
    "        \"student\": \"Carl Sagan\",\n",
    "        \"coffee_preference\": \"medium\",\n",
    "        \"course\": \"data science\",\n",
    "        \"grades\": [100, 86, 91, 87],\n",
    "        \"pets\": [{\"species\": \"cat\", \"age\": 10}],\n",
    "    },\n",
    "    {\n",
    "        \"id\": \"100013\",\n",
    "        \"student\": \"Jane Goodall\",\n",
    "        \"coffee_preference\": \"light\",\n",
    "        \"course\": \"web development\",\n",
    "        \"grades\": [80, 70, 68, 98],\n",
    "        \"pets\": [{\"species\": \"horse\", \"age\": 4}],\n",
    "    },\n",
    "    {\n",
    "        \"id\": \"100014\",\n",
    "        \"student\": \"Richard Feynman\",\n",
    "        \"coffee_preference\": \"medium\",\n",
    "        \"course\": \"web development\",\n",
    "        \"grades\": [73, 99, 86, 98],\n",
    "        \"pets\": [{\"species\": \"dog\", \"age\": 6}],\n",
    "    },\n",
    "]"
   ]
  },
  {
   "cell_type": "code",
   "execution_count": null,
   "metadata": {},
   "outputs": [],
   "source": []
  }
 ],
 "metadata": {
  "kernelspec": {
   "display_name": "Python 3",
   "language": "python",
   "name": "python3"
  },
  "language_info": {
   "codemirror_mode": {
    "name": "ipython",
    "version": 3
   },
   "file_extension": ".py",
   "mimetype": "text/x-python",
   "name": "python",
   "nbconvert_exporter": "python",
   "pygments_lexer": "ipython3",
   "version": "3.7.4"
  }
 },
 "nbformat": 4,
 "nbformat_minor": 2
}
