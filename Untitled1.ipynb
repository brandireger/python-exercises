{
 "cells": [
  {
   "cell_type": "code",
   "execution_count": 1,
   "metadata": {},
   "outputs": [],
   "source": [
    "filename = 'sample_checkbook.txt'\n",
    "\n",
    "with open(filename) as f:\n",
    "    value = []\n",
    "    line = f.read().split('\\n')\n",
    "    for line in line:\n",
    "        value.append(line.split(',')[0])\n"
   ]
  },
  {
   "cell_type": "code",
   "execution_count": 38,
   "metadata": {},
   "outputs": [],
   "source": [
    "from datetime import datetime\n",
    "\n",
    "def transaction_time():\n",
    "    dateTimeObj = datetime.now()\n",
    "    timeStr = dateTimeObj.strftime('%Y-%m-%d')\n",
    "    print(f' , {timeStr}')"
   ]
  },
  {
   "cell_type": "code",
   "execution_count": 39,
   "metadata": {},
   "outputs": [
    {
     "name": "stdout",
     "output_type": "stream",
     "text": [
      " , 2020-02-26\n"
     ]
    }
   ],
   "source": [
    "transaction_time()"
   ]
  },
  {
   "cell_type": "code",
   "execution_count": 61,
   "metadata": {},
   "outputs": [],
   "source": [
    "def get_cleaned_transactions():\n",
    "    with open(filename) as f:\n",
    "        lines = f.read().split('\\n')\n",
    "        all_list = []\n",
    "        for line in lines:\n",
    "            all_list.append(line.split(' , '))\n",
    "        return all_list"
   ]
  },
  {
   "cell_type": "code",
   "execution_count": 62,
   "metadata": {},
   "outputs": [
    {
     "data": {
      "text/plain": [
       "[['500.00', '2020-02-26'],\n",
       " ['-35.45', '2020-02-26'],\n",
       " ['-43.95', '2020-02-26'],\n",
       " ['60.00', '2020-02-26'],\n",
       " ['-5.34', '2020-02-26'],\n",
       " ['-2.00', '2020-02-26'],\n",
       " ['5.00', '2020-02-26'],\n",
       " ['-50.0', '2020-02-26'],\n",
       " ['-50.0', '2020-02-26'],\n",
       " ['-5.0', '2020-02-26'],\n",
       " ['50.0', '2020-02-26']]"
      ]
     },
     "execution_count": 62,
     "metadata": {},
     "output_type": "execute_result"
    }
   ],
   "source": [
    "get_cleaned_transactions()"
   ]
  },
  {
   "cell_type": "code",
   "execution_count": 152,
   "metadata": {},
   "outputs": [],
   "source": [
    "def balance():\n",
    "    all_list = get_cleaned_transactions()\n",
    "    total = 0\n",
    "    balance = []\n",
    "    for sublist in all_list:\n",
    "        balance.append(sublist[0])\n",
    "    for b in balance:\n",
    "        total += float(b)\n",
    "    return round(total, 2)"
   ]
  },
  {
   "cell_type": "code",
   "execution_count": 153,
   "metadata": {},
   "outputs": [
    {
     "data": {
      "text/plain": [
       "423.26"
      ]
     },
     "execution_count": 153,
     "metadata": {},
     "output_type": "execute_result"
    }
   ],
   "source": [
    "balance()"
   ]
  },
  {
   "cell_type": "code",
   "execution_count": 158,
   "metadata": {},
   "outputs": [],
   "source": [
    "def trans_by_day(day_prompt):\n",
    "    all_list = get_cleaned_transactions()\n",
    "    date_list = []\n",
    "    for line in all_list:\n",
    "        if line[1] == day_prompt:\n",
    "            date_list.append(line)\n",
    "    for x, y in enumerate(date_list, 1):\n",
    "        print(x, y)"
   ]
  },
  {
   "cell_type": "code",
   "execution_count": 159,
   "metadata": {},
   "outputs": [
    {
     "name": "stdout",
     "output_type": "stream",
     "text": [
      "1 ['500.00', '2020-02-26']\n",
      "2 ['-35.45', '2020-02-26']\n",
      "3 ['-43.95', '2020-02-26']\n",
      "4 ['60.00', '2020-02-26']\n",
      "5 ['-5.34', '2020-02-26']\n",
      "6 ['-2.00', '2020-02-26']\n",
      "7 ['5.00', '2020-02-26']\n",
      "8 ['-50.0', '2020-02-26']\n",
      "9 ['-50.0', '2020-02-26']\n",
      "10 ['-5.0', '2020-02-26']\n",
      "11 ['50.0', '2020-02-26']\n"
     ]
    }
   ],
   "source": [
    "trans_by_day('2020-02-26')"
   ]
  },
  {
   "cell_type": "code",
   "execution_count": null,
   "metadata": {},
   "outputs": [],
   "source": []
  },
  {
   "cell_type": "code",
   "execution_count": null,
   "metadata": {},
   "outputs": [],
   "source": []
  }
 ],
 "metadata": {
  "kernelspec": {
   "display_name": "Python 3",
   "language": "python",
   "name": "python3"
  },
  "language_info": {
   "codemirror_mode": {
    "name": "ipython",
    "version": 3
   },
   "file_extension": ".py",
   "mimetype": "text/x-python",
   "name": "python",
   "nbconvert_exporter": "python",
   "pygments_lexer": "ipython3",
   "version": "3.7.4"
  }
 },
 "nbformat": 4,
 "nbformat_minor": 2
}
