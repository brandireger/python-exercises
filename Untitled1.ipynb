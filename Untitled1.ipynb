{
 "cells": [
  {
   "cell_type": "code",
   "execution_count": 1,
   "metadata": {},
   "outputs": [],
   "source": [
    "filename = 'my_checkbook_plus.txt'\n",
    "\n",
    "#Check if file exists\n",
    "import os.path\n",
    "from os import path\n",
    "\n",
    "if not path.exists(filename):\n",
    "    with open(filename, 'w') as f:\n",
    "        f.write('0')"
   ]
  },
  {
   "cell_type": "code",
   "execution_count": 2,
   "metadata": {},
   "outputs": [],
   "source": [
    "# Timestamp function\n",
    "from datetime import datetime\n",
    "\n",
    "def transaction_time():\n",
    "    dateTimeObj = datetime.now()\n",
    "    timeStr = dateTimeObj.strftime('%Y-%m-%d')\n",
    "    print(f' , {timeStr}')"
   ]
  },
  {
   "cell_type": "code",
   "execution_count": 3,
   "metadata": {},
   "outputs": [],
   "source": [
    "# Menu functions\n",
    "def menu_choice():\n",
    "    choice = input('What would you like to do?\\n\\n\\\n",
    "1) view current balance\\n\\\n",
    "2) record a debit (withdraw)\\n\\\n",
    "3) record a credit (deposit)\\n\\\n",
    "4) view all historical transactions\\n\\\n",
    "5) view all transactions for a single day\\n\\\n",
    "6) view all transactions in a category\\n\\\n",
    "7) exit\\n')\n",
    "\n",
    "    while choice not in ['1', '2', '3', '4', '5', '6']:\n",
    "        print(f'Invalid choice: {choice}')\n",
    "        choice = input('What would you like to do?\\n\\n\\\n",
    "1) view current balance\\n\\\n",
    "2) record a debit (withdraw)\\n\\\n",
    "3) record a credit (deposit)\\n\\\n",
    "4) view all historical transactions\\n\\\n",
    "5) view all transactions for a single day\\n\\\n",
    "6) view all transactions in a category\\n\\\n",
    "7) exit\\n')\n",
    "\n",
    "    else:\n",
    "        return choice\n",
    "\n",
    "def debit_category_choice():\n",
    "    choice = input('Please select a category for this withdrawal: \\n\\\n",
    "a = work expense \\n\\\n",
    "b = school expense \\n\\\n",
    "c = household expense \\n\\\n",
    "d = other\\n')\n",
    "    \n",
    "    while choice not in ['a', 'b', 'c', 'd']:\n",
    "        print('Invalid selection. Please try again.')\n",
    "        choice = input('Please select a category for this withdrawal: \\n\\\n",
    "a = work expense \\n\\\n",
    "b = school expense \\n\\\n",
    "c = household expense \\n\\\n",
    "d = other\\n')\n",
    "    \n",
    "    else:\n",
    "        return choice\n",
    "\n",
    "def credit_category_choice():\n",
    "    choice = input('Please select a category for this deposit: \\n\\\n",
    "a = paycheck \\n\\\n",
    "b = gift \\n\\\n",
    "c = tax returns \\n\\\n",
    "d = other\\n')\n",
    " \n",
    "    while choice not in ['a', 'b', 'c', 'd']:\n",
    "        print('Invalid selection. Please try again.')\n",
    "        choice = input('Please select a category for this deposit: \\n\\\n",
    "a = paycheck \\n\\\n",
    "b = gift \\n\\\n",
    "c = tax returns \\n\\\n",
    "d = other\\n')\n",
    "\n",
    "    else:\n",
    "        return choice"
   ]
  },
  {
   "cell_type": "code",
   "execution_count": 4,
   "metadata": {},
   "outputs": [],
   "source": [
    "# clean list of transactions\n",
    "def get_cleaned_transactions():\n",
    "    with open(filename) as f:\n",
    "        lines = f.read().split('\\n')\n",
    "        all_list = []\n",
    "        for line in lines:\n",
    "            all_list.append(line.split(' , '))\n",
    "        return all_list"
   ]
  },
  {
   "cell_type": "code",
   "execution_count": 5,
   "metadata": {},
   "outputs": [
    {
     "data": {
      "text/plain": [
       "[['0'],\n",
       " ['1400.00', '2018-07-01', 'paycheck'],\n",
       " ['-50.00', '2018-12-06', 'school expense'],\n",
       " ['-4.58', '2019-02-14', 'work expense'],\n",
       " ['-63.76', '2019-04-26', 'household expense'],\n",
       " ['100.00', '2019-07-01', 'paycheck'],\n",
       " ['-17.63', '2019-10-16', 'school expense'],\n",
       " ['-45.98', '2020-02-26', 'work expense']]"
      ]
     },
     "execution_count": 5,
     "metadata": {},
     "output_type": "execute_result"
    }
   ],
   "source": [
    "get_cleaned_transactions()"
   ]
  },
  {
   "cell_type": "code",
   "execution_count": 6,
   "metadata": {},
   "outputs": [],
   "source": [
    "# balance function\n",
    "def balance():\n",
    "    all_list = get_cleaned_transactions()\n",
    "    total = 0\n",
    "    balance = []\n",
    "    for sublist in all_list:\n",
    "        balance.append(sublist[0])\n",
    "    for b in balance:\n",
    "        total += float(b)\n",
    "    return round(total, 2)"
   ]
  },
  {
   "cell_type": "code",
   "execution_count": 7,
   "metadata": {},
   "outputs": [],
   "source": [
    "# debit function\n",
    "def debit(debit_prompt):\n",
    "    debit_prompt = float(debit_prompt)\n",
    "    with open(filename, 'a') as f:\n",
    "        if debit_prompt > balance():\n",
    "            return print('balance is too low for this debit')\n",
    "        \n",
    "        else:\n",
    "            debit_category = debit_category_choice()\n",
    "            \n",
    "            while debit_category not in ['a', 'b', 'c', 'd']:\n",
    "                print('Invalid selection. Please try again.')\n",
    "                debit_category_choice()\n",
    "            \n",
    "            if debit_category == 'a':\n",
    "                f.write('\\n' + f'-{debit_prompt} , {transaction_time()} , work expense')\n",
    "                return print(f'Withdrew ${debit_prompt}, new balance is ${round(balance(), 2)}.')\n",
    "            elif debit_category == 'b':\n",
    "                f.write('\\n' + f'-{debit_prompt} , {transaction_time()} , school expense')\n",
    "                return print(f'Withdrew ${debit_prompt}, new balance is ${round(balance(), 2)}.')\n",
    "            elif debit_category == 'c':\n",
    "                f.write('\\n' + f'-{debit_prompt} , {transaction_time()} , household expense')\n",
    "                return print(f'Withdrew ${debit_prompt}, new balance is ${round(balance(), 2)}.')\n",
    "            elif debit_category == 'd':\n",
    "                f.write('\\n' + f'-{debit_prompt} , {transaction_time()} , other expense')\n",
    "                return print(f'Withdrew ${debit_prompt}, new balance is ${round(balance(), 2)}.')\n",
    "\n",
    "            else:\n",
    "                return print('Something went wrong!')"
   ]
  },
  {
   "cell_type": "code",
   "execution_count": 8,
   "metadata": {},
   "outputs": [],
   "source": [
    "# credit function\n",
    "def credit(credit_prompt):\n",
    "    with open(filename, 'a') as f:\n",
    "        credit_category = credit_category_choice()\n",
    "\n",
    "        while credit_category not in ['a', 'b', 'c', 'd']:\n",
    "            print('Invalid selection. Please try again.')\n",
    "            credit_category_choice()\n",
    "\n",
    "        if credit_category == 'a':\n",
    "            f.write('\\n' + f'{float(credit_prompt)} , {transaction_time()} , paycheck')\n",
    "            return print(f'Deposited ${float(credit_prompt)}, new balance is ${round(balance(), 2)}.')\n",
    "        elif credit_category == 'b':\n",
    "            f.write('\\n' + f'{float(credit_prompt)} , {transaction_time()} , gift')\n",
    "            return print(f'Deposited ${float(credit_prompt)}, new balance is ${round(balance(), 2)}.')\n",
    "        elif credit_category == 'c':\n",
    "            f.write('\\n' + f'{float(credit_prompt)} , {transaction_time()} , tax returns')\n",
    "            return print(f'Deposited ${float(credit_prompt)}, new balance is ${round(balance(), 2)}.')\n",
    "        elif credit_category == 'd':\n",
    "            f.write('\\n' + f'{float(credit_prompt)} , {transaction_time()} , other')\n",
    "            return print(f'Deposited ${float(credit_prompt)}, new balance is ${round(balance(), 2)}.')\n",
    "        else:\n",
    "            return print('Something went wrong!')"
   ]
  },
  {
   "cell_type": "code",
   "execution_count": 9,
   "metadata": {},
   "outputs": [],
   "source": [
    "# All transactions to date function\n",
    "def all_transactions():\n",
    "    with open(filename) as f:\n",
    "        transactions = f.readlines()\n",
    "        for i, line in enumerate(transactions, 1):\n",
    "            print(f'{i}. ', line)"
   ]
  },
  {
   "cell_type": "code",
   "execution_count": 10,
   "metadata": {},
   "outputs": [],
   "source": [
    "# allow viewer to see all transactions from a given day\n",
    "def trans_by_day(day_prompt):\n",
    "    all_list = get_cleaned_transactions()\n",
    "    date_list = []\n",
    "    for line in all_list:\n",
    "        if line[1] == day_prompt:\n",
    "            date_list.append(line)\n",
    "    for x, y in enumerate(date_list, 1):\n",
    "        print(x, y)"
   ]
  },
  {
   "cell_type": "code",
   "execution_count": 18,
   "metadata": {},
   "outputs": [
    {
     "data": {
      "text/plain": [
       "[['1400.00', '2018-07-01', 'paycheck'],\n",
       " ['-50.00', '2018-12-06', 'school expense'],\n",
       " ['-4.58', '2019-02-14', 'work expense'],\n",
       " ['-63.76', '2019-04-26', 'household expense'],\n",
       " ['100.00', '2019-07-01', 'paycheck'],\n",
       " ['-17.63', '2019-10-16', 'school expense'],\n",
       " ['-45.98', '2020-02-26', 'work expense']]"
      ]
     },
     "execution_count": 18,
     "metadata": {},
     "output_type": "execute_result"
    }
   ],
   "source": [
    "get_cleaned_transactions()"
   ]
  },
  {
   "cell_type": "code",
   "execution_count": 19,
   "metadata": {},
   "outputs": [
    {
     "name": "stdout",
     "output_type": "stream",
     "text": [
      "1 ['-4.58', '2019-02-14', 'work expense']\n"
     ]
    }
   ],
   "source": [
    "all_list = get_cleaned_transactions()\n",
    "date_list = []\n",
    "for line in all_list:\n",
    "    if line[1] == day_prompt:\n",
    "        date_list.append(line)\n",
    "for x, y in enumerate(date_list, 1):\n",
    "    print(x, y)"
   ]
  },
  {
   "cell_type": "code",
   "execution_count": 20,
   "metadata": {},
   "outputs": [
    {
     "name": "stdout",
     "output_type": "stream",
     "text": [
      "1 ['-4.58', '2019-02-14', 'work expense']\n"
     ]
    }
   ],
   "source": [
    "trans_by_day('2019-02-14')"
   ]
  },
  {
   "cell_type": "code",
   "execution_count": 11,
   "metadata": {},
   "outputs": [
    {
     "name": "stdout",
     "output_type": "stream",
     "text": [
      "\n",
      "~~~ Welcome to your terminal checkbook! ~~~\n",
      "\n",
      "\n",
      "What would you like to do?\n",
      "\n",
      "1) view current balance\n",
      "2) record a debit (withdraw)\n",
      "3) record a credit (deposit)\n",
      "4) view all historical transactions\n",
      "5) view all transactions for a single day\n",
      "6) view all transactions in a category\n",
      "7) exit\n",
      "1\n",
      "Your choice?: 1\n",
      "\n",
      "Your current balance is $1318.05.\n",
      "\n",
      "What would you like to do?\n",
      "\n",
      "1) view current balance\n",
      "2) record a debit (withdraw)\n",
      "3) record a credit (deposit)\n",
      "4) view all historical transactions\n",
      "5) view all transactions for a single day\n",
      "6) view all transactions in a category\n",
      "7) exit\n",
      "4\n",
      "Your choice?: 4\n",
      "\n",
      "1.  0\n",
      "\n",
      "2.  1400.00 , 2018-07-01 , paycheck\n",
      "\n",
      "3.  -50.00 , 2018-12-06 , school expense\n",
      "\n",
      "4.  -4.58 , 2019-02-14 , work expense\n",
      "\n",
      "5.  -63.76 , 2019-04-26 , household expense\n",
      "\n",
      "6.  100.00 , 2019-07-01 , paycheck\n",
      "\n",
      "7.  -17.63 , 2019-10-16 , school expense\n",
      "\n",
      "8.  -45.98 , 2020-02-26 , work expense\n",
      "None\n",
      "What would you like to do?\n",
      "\n",
      "1) view current balance\n",
      "2) record a debit (withdraw)\n",
      "3) record a credit (deposit)\n",
      "4) view all historical transactions\n",
      "5) view all transactions for a single day\n",
      "6) view all transactions in a category\n",
      "7) exit\n",
      "5\n",
      "Your choice?: 5\n",
      "\n",
      "Please enter a day in this format: yyyy-mm-dd2019-02-14\n"
     ]
    },
    {
     "ename": "IndexError",
     "evalue": "list index out of range",
     "output_type": "error",
     "traceback": [
      "\u001b[0;31m---------------------------------------------------------------------------\u001b[0m",
      "\u001b[0;31mIndexError\u001b[0m                                Traceback (most recent call last)",
      "\u001b[0;32m<ipython-input-11-de1359172288>\u001b[0m in \u001b[0;36m<module>\u001b[0;34m\u001b[0m\n\u001b[1;32m     48\u001b[0m         \u001b[0mprint\u001b[0m\u001b[0;34m(\u001b[0m\u001b[0;34m)\u001b[0m\u001b[0;34m\u001b[0m\u001b[0;34m\u001b[0m\u001b[0m\n\u001b[1;32m     49\u001b[0m         \u001b[0mday_prompt\u001b[0m \u001b[0;34m=\u001b[0m \u001b[0minput\u001b[0m\u001b[0;34m(\u001b[0m\u001b[0;34m'Please enter a day in this format: yyyy-mm-dd'\u001b[0m\u001b[0;34m)\u001b[0m\u001b[0;34m\u001b[0m\u001b[0;34m\u001b[0m\u001b[0m\n\u001b[0;32m---> 50\u001b[0;31m         \u001b[0mprint\u001b[0m\u001b[0;34m(\u001b[0m\u001b[0;34mf'All transaction on {day_prompt}'\u001b[0m \u001b[0;34m+\u001b[0m \u001b[0mtrans_by_day\u001b[0m\u001b[0;34m(\u001b[0m\u001b[0mday_prompt\u001b[0m\u001b[0;34m)\u001b[0m\u001b[0;34m)\u001b[0m\u001b[0;34m\u001b[0m\u001b[0;34m\u001b[0m\u001b[0m\n\u001b[0m\u001b[1;32m     51\u001b[0m         \u001b[0muserchoice\u001b[0m \u001b[0;34m=\u001b[0m \u001b[0mmenu_choice\u001b[0m\u001b[0;34m(\u001b[0m\u001b[0;34m)\u001b[0m\u001b[0;34m\u001b[0m\u001b[0;34m\u001b[0m\u001b[0m\n\u001b[1;32m     52\u001b[0m \u001b[0;34m\u001b[0m\u001b[0m\n",
      "\u001b[0;32m<ipython-input-10-e8f60a24972b>\u001b[0m in \u001b[0;36mtrans_by_day\u001b[0;34m(day_prompt)\u001b[0m\n\u001b[1;32m      4\u001b[0m     \u001b[0mdate_list\u001b[0m \u001b[0;34m=\u001b[0m \u001b[0;34m[\u001b[0m\u001b[0;34m]\u001b[0m\u001b[0;34m\u001b[0m\u001b[0;34m\u001b[0m\u001b[0m\n\u001b[1;32m      5\u001b[0m     \u001b[0;32mfor\u001b[0m \u001b[0mline\u001b[0m \u001b[0;32min\u001b[0m \u001b[0mall_list\u001b[0m\u001b[0;34m:\u001b[0m\u001b[0;34m\u001b[0m\u001b[0;34m\u001b[0m\u001b[0m\n\u001b[0;32m----> 6\u001b[0;31m         \u001b[0;32mif\u001b[0m \u001b[0mline\u001b[0m\u001b[0;34m[\u001b[0m\u001b[0;36m1\u001b[0m\u001b[0;34m]\u001b[0m \u001b[0;34m==\u001b[0m \u001b[0mday_prompt\u001b[0m\u001b[0;34m:\u001b[0m\u001b[0;34m\u001b[0m\u001b[0;34m\u001b[0m\u001b[0m\n\u001b[0m\u001b[1;32m      7\u001b[0m             \u001b[0mdate_list\u001b[0m\u001b[0;34m.\u001b[0m\u001b[0mappend\u001b[0m\u001b[0;34m(\u001b[0m\u001b[0mline\u001b[0m\u001b[0;34m)\u001b[0m\u001b[0;34m\u001b[0m\u001b[0;34m\u001b[0m\u001b[0m\n\u001b[1;32m      8\u001b[0m     \u001b[0;32mfor\u001b[0m \u001b[0mx\u001b[0m\u001b[0;34m,\u001b[0m \u001b[0my\u001b[0m \u001b[0;32min\u001b[0m \u001b[0menumerate\u001b[0m\u001b[0;34m(\u001b[0m\u001b[0mdate_list\u001b[0m\u001b[0;34m,\u001b[0m \u001b[0;36m1\u001b[0m\u001b[0;34m)\u001b[0m\u001b[0;34m:\u001b[0m\u001b[0;34m\u001b[0m\u001b[0;34m\u001b[0m\u001b[0m\n",
      "\u001b[0;31mIndexError\u001b[0m: list index out of range"
     ]
    }
   ],
   "source": [
    "# checkbook app\n",
    "print()\n",
    "print('~~~ Welcome to your terminal checkbook! ~~~')\n",
    "print()\n",
    "\n",
    "\n",
    "\n",
    "print()\n",
    "userchoice = menu_choice()\n",
    "\n",
    "while userchoice != '7':\n",
    "    # 1: view current balance\n",
    "    if userchoice == '1':\n",
    "        print(f'Your choice?: {userchoice}')\n",
    "        print()\n",
    "        print(f'Your current balance is ${round(balance(), 2)}.')\n",
    "        print()\n",
    "        userchoice = menu_choice()\n",
    "\n",
    "    # 2: debit\n",
    "    elif userchoice == '2':\n",
    "        print(f'Your choice?: {userchoice}')\n",
    "        print()\n",
    "        debit_prompt = input('How much is the debit? ')\n",
    "        debit(debit_prompt)\n",
    "        print()\n",
    "        userchoice = menu_choice() \n",
    "\n",
    "    # 3: credit\n",
    "    elif userchoice == '3':\n",
    "        print(f'Your choice?: {userchoice}')\n",
    "        print()\n",
    "        credit_prompt = input('How much is the credit? ')\n",
    "        credit(credit_prompt)\n",
    "        print()\n",
    "        userchoice = menu_choice()\n",
    "    \n",
    "    # 4: All transactions in file\n",
    "    elif userchoice == '4':\n",
    "        print(f'Your choice?: {userchoice}')\n",
    "        print()\n",
    "        print(all_transactions())\n",
    "        userchoice = menu_choice()\n",
    "\n",
    "    # 5: transactions on a given day\n",
    "    elif userchoice == '5':\n",
    "        print(f'Your choice?: {userchoice}')\n",
    "        print()\n",
    "        day_prompt = input('Please enter a day in this format: yyyy-mm-dd\\n')\n",
    "        print(f'All transactions on {day_prompt}' + trans_by_day(day_prompt))\n",
    "        userchoice = menu_choice()\n",
    "\n",
    "    # 6: view all transactions in a category\n",
    "    elif userchoice == '6':\n",
    "        print(f'Your choice?: {userchoice}')\n",
    "        print()\n",
    "        print(f'Showing all transactions in category {userchoice}: ')\n",
    "        userchoice = menu_choice()\n",
    "        \n",
    "    else:\n",
    "        print('Something went wrong!')\n",
    "        break\n",
    "\n",
    "\n",
    "# 7: exit\n",
    "print(f'Your choice?: {userchoice}')\n",
    "print()\n",
    "print('Thanks, have a great day!')"
   ]
  },
  {
   "cell_type": "code",
   "execution_count": 28,
   "metadata": {},
   "outputs": [],
   "source": [
    "def get_categories(cat_choice):\n",
    "    cat_choice = input('What category would you like to select?\\n\\\n",
    "a = work expense \\n\\\n",
    "b = school expense \\n\\\n",
    "c = household expense \\n\\\n",
    "d = other expense\\n\\\n",
    "e = paycheck \\n\\\n",
    "f = gift \\n\\\n",
    "g = tax returns \\n\\\n",
    "h = other income\\n')\n",
    "    \n",
    "    while cat_choice not in ['a', 'b', 'c', 'd', 'e', 'f', 'g', 'h']:\n",
    "        print('Invalid selection. Please try again.')\n",
    "        cat_choice = input('What category would you like to select?\\n\\\n",
    "a = work expense \\n\\\n",
    "b = school expense \\n\\\n",
    "c = household expense \\n\\\n",
    "d = other expense\\n\\\n",
    "e = paycheck \\n\\\n",
    "f = gift \\n\\\n",
    "g = tax returns \\n\\\n",
    "h = other income\\n')\n",
    "        \n",
    "    if cat_choice == 'a':\n",
    "        category = 'work expense'\n",
    "    elif cat_choice == 'b':\n",
    "        category = 'school expense'\n",
    "    elif cat_choice == 'c':\n",
    "        category = 'household expense'\n",
    "    elif cat_choice == 'd':\n",
    "        category = 'other expense'\n",
    "    elif cat_choice == 'e':\n",
    "        category = 'paycheck'\n",
    "    elif cat_choice == 'f':\n",
    "        category = 'gift'\n",
    "    elif cat_choice == 'g':\n",
    "        category = 'tax returns'\n",
    "    elif cat_choice == 'b':\n",
    "        category = 'other income'\n",
    "    else: \n",
    "        print('Something went wrong!')\n",
    "        \n",
    "    all_list = get_cleaned_transactions()\n",
    "    cat_list = []\n",
    "    for line in all_list:\n",
    "        if line[2] == category:\n",
    "            cat_list.append(line)\n",
    "    for x, y in enumerate(cat_list, 1):\n",
    "        print(x, y)\n",
    "    "
   ]
  },
  {
   "cell_type": "code",
   "execution_count": 30,
   "metadata": {},
   "outputs": [
    {
     "name": "stdout",
     "output_type": "stream",
     "text": [
      "What category would you like to select?\n",
      "a = work expense \n",
      "b = school expense \n",
      "c = household expense \n",
      "d = other expense\n",
      "e = paycheck \n",
      "f = gift \n",
      "g = tax returns \n",
      "h = other income\n",
      "a\n",
      "1 ['-4.58', '2019-02-14', 'work expense']\n",
      "2 ['-45.98', '2020-02-26', 'work expense']\n"
     ]
    }
   ],
   "source": [
    "get_categories('a')"
   ]
  },
  {
   "cell_type": "code",
   "execution_count": null,
   "metadata": {},
   "outputs": [],
   "source": []
  }
 ],
 "metadata": {
  "kernelspec": {
   "display_name": "Python 3",
   "language": "python",
   "name": "python3"
  },
  "language_info": {
   "codemirror_mode": {
    "name": "ipython",
    "version": 3
   },
   "file_extension": ".py",
   "mimetype": "text/x-python",
   "name": "python",
   "nbconvert_exporter": "python",
   "pygments_lexer": "ipython3",
   "version": "3.7.4"
  }
 },
 "nbformat": 4,
 "nbformat_minor": 2
}
