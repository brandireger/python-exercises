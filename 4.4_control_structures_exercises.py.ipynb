{
 "cells": [
  {
   "cell_type": "code",
   "execution_count": null,
   "metadata": {},
   "outputs": [],
   "source": [
    "1. Conditional Basics"
   ]
  },
  {
   "cell_type": "code",
   "execution_count": 17,
   "metadata": {},
   "outputs": [
    {
     "name": "stdout",
     "output_type": "stream",
     "text": [
      "What day of the week is it? Monday\n",
      "Today is Monday\n"
     ]
    }
   ],
   "source": [
    "# a. prompt the user for a day of the week, print out whether the day is Monday or not\n",
    "\n",
    "day_of_week = input('What day of the week is it? ')\n",
    "day_of_week = day_of_week.lower()\n",
    "\n",
    "if day_of_week == ('monday'):\n",
    "    print('Today is Monday')\n",
    "else:\n",
    "    print('Today is not Monday')"
   ]
  },
  {
   "cell_type": "code",
   "execution_count": 113,
   "metadata": {},
   "outputs": [
    {
     "name": "stdout",
     "output_type": "stream",
     "text": [
      "What day of the week is it? friday\n",
      "Today is a weekday\n"
     ]
    }
   ],
   "source": [
    "# b. prompt the user for a day of the week, print out whether the day is a weekday or a weekend\n",
    "\n",
    "day_of_week = input('What day of the week is it? ')\n",
    "day_of_week = day_of_week.lower()\n",
    "\n",
    "if day_of_week in ['saturday', 'sunday']:\n",
    "    print('Today is a weekend')\n",
    "else:\n",
    "    print('Today is a weekday')"
   ]
  },
  {
   "cell_type": "code",
   "execution_count": 114,
   "metadata": {},
   "outputs": [
    {
     "name": "stdout",
     "output_type": "stream",
     "text": [
      "2375.0\n"
     ]
    }
   ],
   "source": [
    "# c. create variables and make up values for: \n",
    "# the number of hours worked in one week, the hourly rate, how much the week's paycheck will be\n",
    "# write the python code that calculates the weekly paycheck. \n",
    "# You get paid time and a half if you work more than 40 hours\n",
    "hours_worked = 45\n",
    "hourly_rate = 50\n",
    "overtime_hours = hours_worked - 40\n",
    "\n",
    "if hours_worked <= 40:\n",
    "    print(hours_worked * hourly_rate)\n",
    "else:\n",
    "    print(((overtime_hours * 1.5) * hourly_rate) + (40 * hourly_rate))"
   ]
  },
  {
   "cell_type": "code",
   "execution_count": null,
   "metadata": {},
   "outputs": [],
   "source": [
    "2. Loop Basics"
   ]
  },
  {
   "cell_type": "code",
   "execution_count": null,
   "metadata": {},
   "outputs": [],
   "source": [
    "a. While"
   ]
  },
  {
   "cell_type": "code",
   "execution_count": 21,
   "metadata": {},
   "outputs": [
    {
     "name": "stdout",
     "output_type": "stream",
     "text": [
      "5\n",
      "6\n",
      "7\n",
      "8\n",
      "9\n",
      "10\n",
      "11\n",
      "12\n",
      "13\n",
      "14\n",
      "15\n"
     ]
    }
   ],
   "source": [
    "# Create an integer variable i with a value of 5.\n",
    "# Create a while loop that runs so long as i is less than or equal to 15\n",
    "# Each loop iteration, output the current value of i, then increment i by one.\n",
    "\n",
    "i = 5\n",
    "\n",
    "while i <= 15:\n",
    "    print(i)\n",
    "    i += 1"
   ]
  },
  {
   "cell_type": "code",
   "execution_count": 23,
   "metadata": {},
   "outputs": [
    {
     "name": "stdout",
     "output_type": "stream",
     "text": [
      "0\n",
      "2\n",
      "4\n",
      "6\n",
      "8\n",
      "10\n",
      "12\n",
      "14\n",
      "16\n",
      "18\n",
      "20\n",
      "22\n",
      "24\n",
      "26\n",
      "28\n",
      "30\n",
      "32\n",
      "34\n",
      "36\n",
      "38\n",
      "40\n",
      "42\n",
      "44\n",
      "46\n",
      "48\n",
      "50\n",
      "52\n",
      "54\n",
      "56\n",
      "58\n",
      "60\n",
      "62\n",
      "64\n",
      "66\n",
      "68\n",
      "70\n",
      "72\n",
      "74\n",
      "76\n",
      "78\n",
      "80\n",
      "82\n",
      "84\n",
      "86\n",
      "88\n",
      "90\n",
      "92\n",
      "94\n",
      "96\n",
      "98\n",
      "100\n"
     ]
    }
   ],
   "source": [
    "# Create a while loop that will count by 2's starting with 0 and ending at 100. \n",
    "# Follow each number with a new line.\n",
    "\n",
    "loop_number = 0\n",
    "\n",
    "while loop_number <= 100:\n",
    "    print(loop_number)\n",
    "    loop_number += 2"
   ]
  },
  {
   "cell_type": "code",
   "execution_count": 24,
   "metadata": {},
   "outputs": [
    {
     "name": "stdout",
     "output_type": "stream",
     "text": [
      "100\n",
      "95\n",
      "90\n",
      "85\n",
      "80\n",
      "75\n",
      "70\n",
      "65\n",
      "60\n",
      "55\n",
      "50\n",
      "45\n",
      "40\n",
      "35\n",
      "30\n",
      "25\n",
      "20\n",
      "15\n",
      "10\n",
      "5\n",
      "0\n",
      "-5\n",
      "-10\n"
     ]
    }
   ],
   "source": [
    "# Alter your loop to count backwards by 5's from 100 to -10.\n",
    "loop_number = 100\n",
    "\n",
    "while loop_number >= -10:\n",
    "    print(loop_number)\n",
    "    loop_number -= 5"
   ]
  },
  {
   "cell_type": "code",
   "execution_count": 27,
   "metadata": {},
   "outputs": [
    {
     "name": "stdout",
     "output_type": "stream",
     "text": [
      "2\n",
      "4\n",
      "16\n",
      "256\n",
      "65536\n"
     ]
    }
   ],
   "source": [
    "# Create a while loop that starts at 2, \n",
    "# and displays the number squared on each line \n",
    "# while the number is less than 1,000,000.\n",
    "sqd_loop_number = 2\n",
    "\n",
    "while sqd_loop_number < 1000000:\n",
    "    print(sqd_loop_number)\n",
    "    sqd_loop_number *= sqd_loop_number\n"
   ]
  },
  {
   "cell_type": "code",
   "execution_count": 29,
   "metadata": {},
   "outputs": [
    {
     "name": "stdout",
     "output_type": "stream",
     "text": [
      "100\n",
      "95\n",
      "90\n",
      "85\n",
      "80\n",
      "75\n",
      "70\n",
      "65\n",
      "60\n",
      "55\n",
      "50\n",
      "45\n",
      "40\n",
      "35\n",
      "30\n",
      "25\n",
      "20\n",
      "15\n",
      "10\n",
      "5\n"
     ]
    }
   ],
   "source": [
    "loop_trial = 100\n",
    "\n",
    "while loop_trial >= 5:\n",
    "    print(loop_trial)\n",
    "    loop_trial -= 5"
   ]
  },
  {
   "cell_type": "code",
   "execution_count": null,
   "metadata": {},
   "outputs": [],
   "source": [
    "b. For Loops"
   ]
  },
  {
   "cell_type": "code",
   "execution_count": 122,
   "metadata": {},
   "outputs": [
    {
     "name": "stdout",
     "output_type": "stream",
     "text": [
      "What number would you like to multiply? 7\n",
      "7 x 1 = 7\n",
      "7 x 2 = 14\n",
      "7 x 3 = 21\n",
      "7 x 4 = 28\n",
      "7 x 5 = 35\n",
      "7 x 6 = 42\n",
      "7 x 7 = 49\n",
      "7 x 8 = 56\n",
      "7 x 9 = 63\n",
      "7 x 10 = 70\n"
     ]
    }
   ],
   "source": [
    "# Write some code that prompts the user for a number, \n",
    "# then shows a multiplication table up through 10 for that number.\n",
    "\n",
    "multiplication = input('What number would you like to multiply? ')\n",
    "\n",
    "for n in range(1,11):\n",
    "    print(f'{multiplication} x {n} =', int(multiplication) * n)"
   ]
  },
  {
   "cell_type": "code",
   "execution_count": null,
   "metadata": {},
   "outputs": [],
   "source": [
    "# Create a for loop that uses print to create the output shown below.\n",
    "\n",
    "1\n",
    "22\n",
    "333\n",
    "4444\n",
    "55555\n",
    "666666\n",
    "7777777\n",
    "88888888\n",
    "999999999"
   ]
  },
  {
   "cell_type": "code",
   "execution_count": 123,
   "metadata": {},
   "outputs": [
    {
     "name": "stdout",
     "output_type": "stream",
     "text": [
      "1\n",
      "22\n",
      "333\n",
      "4444\n",
      "55555\n",
      "666666\n",
      "7777777\n",
      "88888888\n",
      "999999999\n"
     ]
    }
   ],
   "source": [
    "for n in range(1,10):\n",
    "    print(f'{n}' * n)"
   ]
  },
  {
   "cell_type": "markdown",
   "metadata": {},
   "source": [
    "c. break and continue"
   ]
  },
  {
   "cell_type": "code",
   "execution_count": 125,
   "metadata": {},
   "outputs": [
    {
     "name": "stdout",
     "output_type": "stream",
     "text": [
      "Enter an odd number between 1 and 50 6\n",
      "6 is invalid. Try again.\n",
      "Enter an odd number between 1 and 50 5\n",
      "\n",
      "Number to skip is: 5\n",
      "\n",
      "Here is an odd number:  1\n",
      "Here is an odd number:  3\n",
      "Yikes! Skipping number: 5\n",
      "Here is an odd number:  7\n",
      "Here is an odd number:  9\n",
      "Here is an odd number:  11\n",
      "Here is an odd number:  13\n",
      "Here is an odd number:  15\n",
      "Here is an odd number:  17\n",
      "Here is an odd number:  19\n",
      "Here is an odd number:  21\n",
      "Here is an odd number:  23\n",
      "Here is an odd number:  25\n",
      "Here is an odd number:  27\n",
      "Here is an odd number:  29\n",
      "Here is an odd number:  31\n",
      "Here is an odd number:  33\n",
      "Here is an odd number:  35\n",
      "Here is an odd number:  37\n",
      "Here is an odd number:  39\n",
      "Here is an odd number:  41\n",
      "Here is an odd number:  43\n",
      "Here is an odd number:  45\n",
      "Here is an odd number:  47\n",
      "Here is an odd number:  49\n"
     ]
    }
   ],
   "source": [
    "# Prompt the user for an odd number between 1 and 50. \n",
    "# Use a loop and a break statement to continue prompting the user if they enter invalid input. \n",
    "# (Hint: use the isdigit method on strings to determine this). \n",
    "# Use a loop and the continue statement to output all the odd numbers between 1 and 50, \n",
    "# except for the number the user entered.\n",
    "\n",
    "odd_range = -1\n",
    "\n",
    "number_input = input('Enter an odd number between 1 and 50 ')\n",
    "\n",
    "while (number_input.isdigit() == False\n",
    "       or int(number_input) > 50 \n",
    "       or int(number_input) < 1 \n",
    "       or int(number_input) % 2 == 0):\n",
    "    print(f'{number_input} is invalid. Try again.')\n",
    "    number_input = input('Enter an odd number between 1 and 50 ')\n",
    "\n",
    "number_input = int(number_input)\n",
    "print()\n",
    "print('Number to skip is:', number_input)\n",
    "print()\n",
    "\n",
    "while odd_range < 49:\n",
    "    odd_range += 2\n",
    "    if odd_range == number_input:\n",
    "        print('Yikes! Skipping number:', number_input)\n",
    "        continue\n",
    "    print('Here is an odd number: ', odd_range)\n"
   ]
  },
  {
   "cell_type": "code",
   "execution_count": 107,
   "metadata": {},
   "outputs": [
    {
     "name": "stdout",
     "output_type": "stream",
     "text": [
      "Enter a positive number:5\n",
      "0\n",
      "1\n",
      "2\n",
      "3\n",
      "4\n",
      "5\n"
     ]
    }
   ],
   "source": [
    "# The input function can be used to prompt for input and use that input in your python code. \n",
    "# Prompt the user to enter a positive number and write a loop that counts from 0 to that number. \n",
    "# (Hints: first make sure that the value the user entered is a valid number, \n",
    "# also note that the input function returns a string, so you'll need to convert \n",
    "# this to a numeric type.)\n",
    "\n",
    "prompt = input('Enter a positive number:')\n",
    "prompt = int(prompt)\n",
    "starting_point = 0\n",
    "while starting_point < (prompt + 1):\n",
    "    print(starting_point)\n",
    "    starting_point += 1\n"
   ]
  },
  {
   "cell_type": "code",
   "execution_count": 126,
   "metadata": {},
   "outputs": [
    {
     "name": "stdout",
     "output_type": "stream",
     "text": [
      "Enter a positive number: 5\n",
      "5\n",
      "4\n",
      "3\n",
      "2\n",
      "1\n"
     ]
    }
   ],
   "source": [
    "# Write a program that prompts the user for a positive integer. \n",
    "#Next write a loop that prints out the numbers from the number the user entered down to 1.\n",
    "\n",
    "prompt = input('Enter a positive number: ')\n",
    "prompt = int(prompt)\n",
    "\n",
    "while prompt >= 1:\n",
    "    print(prompt)\n",
    "    prompt -= 1"
   ]
  },
  {
   "cell_type": "markdown",
   "metadata": {},
   "source": [
    "3. Fizzbuzz\n",
    "\n",
    "One of the most common interview questions for entry-level programmers is the FizzBuzz test. \n",
    "Developed by Imran Ghory, the test is designed to test basic looping \n",
    "and conditional logic skills.\n"
   ]
  },
  {
   "cell_type": "code",
   "execution_count": 112,
   "metadata": {},
   "outputs": [
    {
     "name": "stdout",
     "output_type": "stream",
     "text": [
      "1\n",
      "2\n",
      "Fizz\n",
      "4\n",
      "Buzz\n",
      "Fizz\n",
      "7\n",
      "8\n",
      "Fizz\n",
      "Buzz\n",
      "11\n",
      "Fizz\n",
      "13\n",
      "14\n",
      "FizzBuzz\n",
      "16\n",
      "17\n",
      "Fizz\n",
      "19\n",
      "Buzz\n",
      "Fizz\n",
      "22\n",
      "23\n",
      "Fizz\n",
      "Buzz\n",
      "26\n",
      "Fizz\n",
      "28\n",
      "29\n",
      "FizzBuzz\n",
      "31\n",
      "32\n",
      "Fizz\n",
      "34\n",
      "Buzz\n",
      "Fizz\n",
      "37\n",
      "38\n",
      "Fizz\n",
      "Buzz\n",
      "41\n",
      "Fizz\n",
      "43\n",
      "44\n",
      "FizzBuzz\n",
      "46\n",
      "47\n",
      "Fizz\n",
      "49\n",
      "Buzz\n",
      "Fizz\n",
      "52\n",
      "53\n",
      "Fizz\n",
      "Buzz\n",
      "56\n",
      "Fizz\n",
      "58\n",
      "59\n",
      "FizzBuzz\n",
      "61\n",
      "62\n",
      "Fizz\n",
      "64\n",
      "Buzz\n",
      "Fizz\n",
      "67\n",
      "68\n",
      "Fizz\n",
      "Buzz\n",
      "71\n",
      "Fizz\n",
      "73\n",
      "74\n",
      "FizzBuzz\n",
      "76\n",
      "77\n",
      "Fizz\n",
      "79\n",
      "Buzz\n",
      "Fizz\n",
      "82\n",
      "83\n",
      "Fizz\n",
      "Buzz\n",
      "86\n",
      "Fizz\n",
      "88\n",
      "89\n",
      "FizzBuzz\n",
      "91\n",
      "92\n",
      "Fizz\n",
      "94\n",
      "Buzz\n",
      "Fizz\n",
      "97\n",
      "98\n",
      "Fizz\n",
      "Buzz\n"
     ]
    }
   ],
   "source": [
    "# Write a program that prints the numbers from 1 to 100.\n",
    "# For multiples of three print \"Fizz\" instead of the number\n",
    "# For the multiples of five print \"Buzz\".\n",
    "# For numbers which are multiples of both three and five print \"FizzBuzz\".\n",
    "\n",
    "for n in range(1,101):\n",
    "    if n % 3 == 0 and n % 5 == 0:\n",
    "        print('FizzBuzz')\n",
    "    elif n % 3 == 0:\n",
    "        print('Fizz')\n",
    "    elif n % 5 == 0:\n",
    "        print('Buzz')\n",
    "    else:\n",
    "        print(n)"
   ]
  },
  {
   "cell_type": "markdown",
   "metadata": {},
   "source": [
    "4. Display a table of powers."
   ]
  },
  {
   "cell_type": "code",
   "execution_count": 152,
   "metadata": {},
   "outputs": [
    {
     "ename": "SyntaxError",
     "evalue": "'break' outside loop (<ipython-input-152-574c21093518>, line 33)",
     "output_type": "error",
     "traceback": [
      "\u001b[0;36m  File \u001b[0;32m\"<ipython-input-152-574c21093518>\"\u001b[0;36m, line \u001b[0;32m33\u001b[0m\n\u001b[0;31m    prompt = input('What number would you like to go up to? ')\u001b[0m\n\u001b[0m           ^\u001b[0m\n\u001b[0;31mSyntaxError\u001b[0m\u001b[0;31m:\u001b[0m 'break' outside loop\n"
     ]
    }
   ],
   "source": [
    "# Prompt the user to enter an integer.\n",
    "# Display a table of squares and cubes from 1 to the value entered.\n",
    "# Ask if the user wants to continue.\n",
    "# Assume that the user will enter valid data.\n",
    "# Only continue if the user agrees to.\n",
    "\n",
    "prompt = input('What number would you like to go up to? ')\n",
    "\n",
    "while (prompt.isdigit() == False\n",
    "       or int(prompt) > 50 \n",
    "       or int(prompt) < 1):\n",
    "    print(f'{prompt} is invalid. Try again.')\n",
    "    prompt = input('What number would you like to go up to? ')\n",
    "\n",
    "prompt = int(prompt)\n",
    "starting_point = 1\n",
    "print()\n",
    "print('Here is your table!')\n",
    "print()\n",
    "print('number | squared | cubed')\n",
    "print('------ | ------- | -----')\n",
    "while starting_point <= prompt:\n",
    "    print(f'{starting_point:<7}| {starting_point ** 2:<8}| {starting_point ** 3}')\n",
    "    starting_point += 1\n",
    "print()\n",
    "\n",
    "choice = input('Do you want to continue? ')\n",
    "choice = choice.lower()\n",
    "if choice not in ['y', 'yes']:\n",
    "    break\n",
    "    \n",
    "while True:\n",
    "    prompt = input('What number would you like to go up to? ')\n",
    "\n",
    "    while (prompt.isdigit() == False\n",
    "           or int(prompt) > 50 \n",
    "           or int(prompt) < 1):\n",
    "        print(f'{prompt} is invalid. Try again.')\n",
    "        prompt = input('What number would you like to go up to? ')\n",
    "\n",
    "    prompt = int(prompt)\n",
    "    starting_point = 1\n",
    "    print()\n",
    "    print('Here is your table!')\n",
    "    print()\n",
    "    print('number | squared | cubed')\n",
    "    print('------ | ------- | -----')\n",
    "    while starting_point <= prompt:\n",
    "        print(f'{starting_point:<7}| {starting_point ** 2:<8}| {starting_point ** 3}')\n",
    "        starting_point += 1\n",
    "        \n",
    "    \n",
    "        "
   ]
  },
  {
   "cell_type": "markdown",
   "metadata": {},
   "source": [
    "Convert given number grades into letter grades.\n",
    "\n",
    "Prompt the user for a numerical grade from 0 to 100.\n",
    "Display the corresponding letter grade.\n",
    "Prompt the user to continue.\n",
    "Assume that the user will enter valid integers for the grades.\n",
    "The application should only continue if the user agrees to.\n",
    "Grade Ranges:\n",
    "\n",
    "A : 100 - 88\n",
    "B : 87 - 80\n",
    "C : 79 - 67\n",
    "D : 66 - 60\n",
    "F : 59 - 0"
   ]
  },
  {
   "cell_type": "code",
   "execution_count": 141,
   "metadata": {},
   "outputs": [
    {
     "name": "stdout",
     "output_type": "stream",
     "text": [
      "Grading application\n",
      "Input a positive number. 60\n",
      "60 is a D\n",
      "Do you want to continue? Type y or yes. y\n",
      "Grading application\n",
      "Input a positive number. 99\n",
      "99 is an A\n",
      "Do you want to continue? Type y or yes. n\n"
     ]
    }
   ],
   "source": [
    "while True:\n",
    "    print('Grading application')\n",
    "    user_choice = input('Input a positive number. ')\n",
    "    while (user_choice.isdigit() == False\n",
    "          or int(user_choice) < 0\n",
    "          or int(user_choice) >= 100):\n",
    "        print(f'{user_choice} is nice, but we need a positive number.')\n",
    "        user_choice = input('Input a positive number. ')\n",
    "    \n",
    "    user_choice = int(user_choice)\n",
    "    if user_choice >= 88:\n",
    "        print(f'{user_choice} is an A')\n",
    "    elif user_choice >= 80:\n",
    "        print(f'{user_choice} is a B')\n",
    "    elif user_choice >= 67:\n",
    "        print(f'{user_choice} is a C')\n",
    "    elif user_choice >= 60:\n",
    "        print(f'{user_choice} is a D')\n",
    "    else:\n",
    "        print(f'{user_choice} is an F')\n",
    "    \n",
    "    user_choice = input('Do you want to continue? Type y or yes. ')\n",
    "    wants_to_stop = user_choice.lower() not in ['y', 'yes']\n",
    "    if wants_to_stop:\n",
    "        break"
   ]
  },
  {
   "cell_type": "markdown",
   "metadata": {},
   "source": [
    "Create a list of dictionaries where each dictionary represents a book that you have read. \n",
    "Each dictionary in the list should have the keys title, author, and genre. \n",
    "Loop through the list and print out information about each book.\n",
    "\n",
    "Prompt the user to enter a genre, then loop through your books list and print out the titles of all the books in that genre."
   ]
  },
  {
   "cell_type": "code",
   "execution_count": 145,
   "metadata": {},
   "outputs": [
    {
     "name": "stdout",
     "output_type": "stream",
     "text": [
      "'Oathbringer' by Brandon Sanderson is about science fiction\n",
      "'Outliers' by Malcom Gladwell is about non-fiction\n",
      "'Smart Mobs' by Howard Rheingold is about non-fiction\n"
     ]
    }
   ],
   "source": [
    "books = [\n",
    "    {\n",
    "        'title': 'Oathbringer',\n",
    "        'author': 'Brandon Sanderson',\n",
    "        'genre': 'science fiction',\n",
    "    },\n",
    "    {\n",
    "        'title': 'Outliers',\n",
    "        'author': 'Malcom Gladwell',\n",
    "        'genre': 'non-fiction',\n",
    "    },\n",
    "    {\n",
    "        'title': 'Smart Mobs',\n",
    "        'author': 'Howard Rheingold',\n",
    "        'genre': 'non-fiction',\n",
    "    },\n",
    "]\n",
    "\n",
    "for book in books:\n",
    "    print(f\"'{book['title']}' by {book['author']} is about {book['genre']}\")\n"
   ]
  },
  {
   "cell_type": "code",
   "execution_count": 147,
   "metadata": {},
   "outputs": [
    {
     "name": "stdout",
     "output_type": "stream",
     "text": [
      "Please enter a genre. non-fiction\n",
      "Outliers\n",
      "Smart Mobs\n"
     ]
    }
   ],
   "source": [
    "genre = input('Please enter a genre. ')\n",
    "\n",
    "for book in books:\n",
    "    if book['genre'] == genre:\n",
    "        print(book['title'])\n"
   ]
  }
 ],
 "metadata": {
  "kernelspec": {
   "display_name": "Python 3",
   "language": "python",
   "name": "python3"
  },
  "language_info": {
   "codemirror_mode": {
    "name": "ipython",
    "version": 3
   },
   "file_extension": ".py",
   "mimetype": "text/x-python",
   "name": "python",
   "nbconvert_exporter": "python",
   "pygments_lexer": "ipython3",
   "version": "3.7.4"
  }
 },
 "nbformat": 4,
 "nbformat_minor": 2
}
